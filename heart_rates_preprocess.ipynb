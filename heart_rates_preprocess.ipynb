{
 "cells": [
  {
   "cell_type": "code",
   "execution_count": 47,
   "metadata": {},
   "outputs": [],
   "source": [
    "import numpy as np\n",
    "import math\n",
    "import time\n",
    "from datetime import datetime, timezone\n",
    "import pandas as pd\n",
    "import seaborn as sns\n",
    "import matplotlib.pyplot as plt\n",
    "from sklearn.preprocessing import StandardScaler\n",
    "from sklearn.preprocessing import MinMaxScaler"
   ]
  },
  {
   "cell_type": "code",
   "execution_count": 48,
   "metadata": {},
   "outputs": [],
   "source": [
    "subjects_as_ints = [3509524, 5132496, 1066528, 5498603, 2638030, 2598705,\n",
    "                    5383425, 1455390, 4018081, 9961348,1449548, 8258170,\n",
    "                    781756, 9106476, 8686948, 8530312, 3997827, 4314139,\n",
    "                    1818471, 4426783, 8173033, 7749105, 5797046, 759667,\n",
    "                    8000685, 6220552, 844359, 9618981, 1360686, 46343,\n",
    "                    8692923]\n",
    "\n",
    "subjects_as_ints_min = [3509524, 5132496]\n",
    "\n",
    "datetime_string = \"2023-12-10 22:00:00\"\n",
    "dt = datetime.strptime(datetime_string, \"%Y-%m-%d %H:%M:%S\")\n",
    "BASE_TIME = int(dt.replace(tzinfo=timezone.utc).timestamp())"
   ]
  },
  {
   "cell_type": "code",
   "execution_count": 49,
   "metadata": {},
   "outputs": [],
   "source": [
    "def read_all_heart_rates(subjects):\n",
    "    df = pd.DataFrame()\n",
    "    for sub_id in subjects:\n",
    "        sub_data = read_heart_rate(sub_id)\n",
    "        df = pd.concat([df, sub_data], ignore_index=True)\n",
    "    return df\n",
    "\n",
    "def read_heart_rate(sub_id):\n",
    "    data = pd.read_csv('data/heart_rate/' + str(sub_id) + '_heartrate.txt', delimiter=',').values\n",
    "    time = data[:,0]\n",
    "    time = BASE_TIME + time\n",
    "    time = pd.to_datetime(time, unit='s')\n",
    "    heart_rate = data[:,1]\n",
    "    df = pd.DataFrame({'time': time, 'heart_rate': heart_rate, 'ID': sub_id})\n",
    "    return df"
   ]
  },
  {
   "cell_type": "code",
   "execution_count": 50,
   "metadata": {},
   "outputs": [
    {
     "name": "stdout",
     "output_type": "stream",
     "text": [
      "                           time  heart_rate       ID\n",
      "0 2023-12-03 22:15:01.180589914        77.0  3509524\n",
      "1 2023-12-03 22:31:22.431269884        68.0  3509524\n",
      "2 2023-12-03 22:37:45.806010008        65.0  3509524\n",
      "3 2023-12-03 22:40:19.805700064        79.0  3509524\n",
      "4 2023-12-03 22:45:49.965310097        71.0  3509524\n",
      "254394\n",
      "time          0\n",
      "heart_rate    0\n",
      "ID            0\n",
      "dtype: int64\n"
     ]
    }
   ],
   "source": [
    "heart_rates = read_all_heart_rates(subjects_as_ints)\n",
    "print(heart_rates.head())\n",
    "print(len(heart_rates))\n",
    "print(heart_rates.isnull().sum())"
   ]
  },
  {
   "cell_type": "code",
   "execution_count": 51,
   "metadata": {},
   "outputs": [],
   "source": [
    "labels = pd.read_csv('labels.csv') \n",
    "labels['time'] = pd.to_datetime(labels['time'])"
   ]
  },
  {
   "cell_type": "code",
   "execution_count": 52,
   "metadata": {},
   "outputs": [],
   "source": [
    "def crop_extra(data):\n",
    "    df = pd.DataFrame()\n",
    "    for _, (subject_id, subject_labels) in enumerate(labels.groupby('ID')):\n",
    "        print('subject_id: {}'.format(subject_id))\n",
    "        start = subject_labels['time'].min()\n",
    "        end = subject_labels['time'].max()\n",
    "        print('start: {}, end: {}'.format(start, end))\n",
    "        condition1 = data['ID'] == subject_id\n",
    "        condition2 = data['time'] >= start\n",
    "        condition3 = data['time'] <= end\n",
    "        filtered = data[(condition1 & condition2 & condition3)]\n",
    "        og = data[condition1]\n",
    "        print('Number of datapoints: {}'.format(len(filtered)))\n",
    "        print('percentage of original: {}'.format(len(filtered) / len(og)))\n",
    "        df = pd.concat([df, filtered], ignore_index=True)\n",
    "    return df"
   ]
  },
  {
   "cell_type": "code",
   "execution_count": 53,
   "metadata": {},
   "outputs": [
    {
     "name": "stdout",
     "output_type": "stream",
     "text": [
      "subject_id: 46343\n",
      "start: 2023-12-10 22:06:30, end: 2023-12-11 02:43:00\n",
      "Number of datapoints: 3225\n",
      "percentage of original: 0.661267172442075\n",
      "subject_id: 759667\n",
      "start: 2023-12-10 22:00:30, end: 2023-12-11 01:57:00\n",
      "Number of datapoints: 2837\n",
      "percentage of original: 0.6490505605124686\n",
      "subject_id: 781756\n",
      "start: 2023-12-10 22:00:30, end: 2023-12-11 06:10:00\n",
      "Number of datapoints: 16938\n",
      "percentage of original: 0.9402686799156211\n",
      "subject_id: 844359\n",
      "start: 2023-12-10 22:22:00, end: 2023-12-11 05:50:00\n",
      "Number of datapoints: 5167\n",
      "percentage of original: 0.7221523410202656\n",
      "subject_id: 1066528\n",
      "start: 2023-12-10 22:00:30, end: 2023-12-11 05:55:30\n",
      "Number of datapoints: 14874\n",
      "percentage of original: 0.8951612903225806\n",
      "subject_id: 1360686\n",
      "start: 2023-12-10 22:09:00, end: 2023-12-11 06:02:30\n",
      "Number of datapoints: 5458\n",
      "percentage of original: 0.7835199540625897\n",
      "subject_id: 1449548\n",
      "start: 2023-12-10 22:05:30, end: 2023-12-11 06:02:00\n",
      "Number of datapoints: 5486\n",
      "percentage of original: 0.42603090782014447\n",
      "subject_id: 1455390\n",
      "start: 2023-12-10 22:17:00, end: 2023-12-11 06:14:00\n",
      "Number of datapoints: 5514\n",
      "percentage of original: 0.795785827680762\n",
      "subject_id: 1818471\n",
      "start: 2023-12-10 22:10:00, end: 2023-12-11 06:08:30\n",
      "Number of datapoints: 5527\n",
      "percentage of original: 0.7689204229271007\n",
      "subject_id: 2598705\n",
      "start: 2023-12-10 22:13:00, end: 2023-12-11 06:09:30\n",
      "Number of datapoints: 5168\n",
      "percentage of original: 0.7473608098336949\n",
      "subject_id: 2638030\n",
      "start: 2023-12-10 22:06:30, end: 2023-12-11 06:00:00\n",
      "Number of datapoints: 5418\n",
      "percentage of original: 0.772785622593068\n",
      "subject_id: 3509524\n",
      "start: 2023-12-10 22:00:30, end: 2023-12-11 01:28:00\n",
      "Number of datapoints: 2489\n",
      "percentage of original: 0.650208986415883\n",
      "subject_id: 3997827\n",
      "start: 2023-12-10 22:08:30, end: 2023-12-11 06:07:00\n",
      "Number of datapoints: 5563\n",
      "percentage of original: 0.6835831899729663\n",
      "subject_id: 4018081\n",
      "start: 2023-12-10 22:00:30, end: 2023-12-11 02:14:30\n",
      "Number of datapoints: 3048\n",
      "percentage of original: 0.5887579679350975\n",
      "subject_id: 4314139\n",
      "start: 2023-12-10 22:04:00, end: 2023-12-11 06:04:00\n",
      "Number of datapoints: 5523\n",
      "percentage of original: 0.5050754458161866\n",
      "subject_id: 4426783\n",
      "start: 2023-12-10 22:00:30, end: 2023-12-11 06:09:30\n",
      "Number of datapoints: 5631\n",
      "percentage of original: 0.34490995957368614\n",
      "subject_id: 5132496\n",
      "start: 2023-12-10 22:00:30, end: 2023-12-11 01:52:00\n",
      "Number of datapoints: 2779\n",
      "percentage of original: 0.6480876865671642\n",
      "subject_id: 5383425\n",
      "start: 2023-12-10 22:00:30, end: 2023-12-11 06:08:30\n",
      "Number of datapoints: 5603\n",
      "percentage of original: 0.9705525723194179\n",
      "subject_id: 5498603\n",
      "start: 2023-12-10 22:05:30, end: 2023-12-11 04:17:00\n",
      "Number of datapoints: 4295\n",
      "percentage of original: 0.535202492211838\n",
      "subject_id: 5797046\n",
      "start: 2023-12-10 22:11:00, end: 2023-12-11 06:00:30\n",
      "Number of datapoints: 5456\n",
      "percentage of original: 0.4425697598961713\n",
      "subject_id: 6220552\n",
      "start: 2023-12-10 22:13:30, end: 2023-12-11 06:10:30\n",
      "Number of datapoints: 5533\n",
      "percentage of original: 0.7779808773903262\n",
      "subject_id: 7749105\n",
      "start: 2023-12-10 22:06:00, end: 2023-12-11 05:58:00\n",
      "Number of datapoints: 767\n",
      "percentage of original: 0.32253994953742643\n",
      "subject_id: 8000685\n",
      "start: 2023-12-10 22:02:30, end: 2023-12-11 06:01:00\n",
      "Number of datapoints: 5540\n",
      "percentage of original: 0.7873791927231382\n",
      "subject_id: 8173033\n",
      "start: 2023-12-10 22:14:00, end: 2023-12-11 06:11:00\n",
      "Number of datapoints: 5481\n",
      "percentage of original: 0.9103139013452914\n",
      "subject_id: 8258170\n",
      "start: 2023-12-10 22:00:30, end: 2023-12-11 06:05:30\n",
      "Number of datapoints: 5618\n",
      "percentage of original: 0.880702304436432\n",
      "subject_id: 8530312\n",
      "start: 2023-12-10 22:08:00, end: 2023-12-11 06:02:00\n",
      "Number of datapoints: 5429\n",
      "percentage of original: 0.7616442199775533\n",
      "subject_id: 8686948\n",
      "start: 2023-12-10 22:07:30, end: 2023-12-11 06:04:30\n",
      "Number of datapoints: 5525\n",
      "percentage of original: 0.8285842831433713\n",
      "subject_id: 8692923\n",
      "start: 2023-12-10 22:14:30, end: 2023-12-11 06:02:00\n",
      "Number of datapoints: 5372\n",
      "percentage of original: 0.709830866807611\n",
      "subject_id: 9106476\n",
      "start: 2023-12-10 22:07:00, end: 2023-12-11 06:07:00\n",
      "Number of datapoints: 5537\n",
      "percentage of original: 0.6895392278953922\n",
      "subject_id: 9618981\n",
      "start: 2023-12-10 22:00:30, end: 2023-12-11 05:52:00\n",
      "Number of datapoints: 5414\n",
      "percentage of original: 0.8532702915681639\n",
      "subject_id: 9961348\n",
      "start: 2023-12-10 22:00:30, end: 2023-12-11 03:59:30\n",
      "Number of datapoints: 12003\n",
      "percentage of original: 0.7505627813906953\n"
     ]
    }
   ],
   "source": [
    "heart_rates = crop_extra(heart_rates)"
   ]
  },
  {
   "cell_type": "code",
   "execution_count": 54,
   "metadata": {},
   "outputs": [
    {
     "name": "stdout",
     "output_type": "stream",
     "text": [
      "178218\n"
     ]
    }
   ],
   "source": [
    "print(len(heart_rates))"
   ]
  },
  {
   "cell_type": "code",
   "execution_count": 55,
   "metadata": {},
   "outputs": [],
   "source": [
    "scaler = MinMaxScaler()\n",
    "heart_rates['heart_rate'] = scaler.fit_transform(heart_rates[['heart_rate']])"
   ]
  },
  {
   "cell_type": "code",
   "execution_count": null,
   "metadata": {},
   "outputs": [],
   "source": []
  },
  {
   "cell_type": "code",
   "execution_count": 56,
   "metadata": {},
   "outputs": [
    {
     "name": "stdout",
     "output_type": "stream",
     "text": [
      "Average difference: 0 days 00:00:05.143608526\n",
      "Average difference: 0 days 00:00:04.999995694\n",
      "Average difference: 0 days 00:00:01.733607552\n",
      "Average difference: 0 days 00:00:05.201120574\n",
      "Average difference: 0 days 00:00:01.912897806\n",
      "Average difference: 0 days 00:00:05.205976060\n",
      "Average difference: 0 days 00:00:05.210872443\n",
      "Average difference: 0 days 00:00:05.189306466\n",
      "Average difference: 0 days 00:00:05.194890063\n",
      "Average difference: 0 days 00:00:05.532269103\n",
      "Average difference: 0 days 00:00:05.244047120\n",
      "Average difference: 0 days 00:00:04.999597938\n",
      "Average difference: 0 days 00:00:05.159652705\n",
      "Average difference: 0 days 00:00:04.999015733\n",
      "Average difference: 0 days 00:00:05.213869505\n",
      "Average difference: 0 days 00:00:05.210100250\n",
      "Average difference: 0 days 00:00:04.999278437\n",
      "Average difference: 0 days 00:00:05.225080208\n",
      "Average difference: 0 days 00:00:05.189895123\n",
      "Average difference: 0 days 00:00:05.163231935\n",
      "Average difference: 0 days 00:00:05.171908881\n",
      "Average difference: 0 days 00:00:36.519077963\n",
      "Average difference: 0 days 00:00:05.182703847\n",
      "Average difference: 0 days 00:00:05.221951463\n",
      "Average difference: 0 days 00:00:05.178538906\n",
      "Average difference: 0 days 00:00:05.238833185\n",
      "Average difference: 0 days 00:00:05.180663555\n",
      "Average difference: 0 days 00:00:05.221444302\n",
      "Average difference: 0 days 00:00:05.200866914\n",
      "Average difference: 0 days 00:00:05.225343596\n",
      "Average difference: 0 days 00:00:01.794103692\n"
     ]
    }
   ],
   "source": [
    "for _, (subject_id, subject_data) in enumerate(heart_rates.groupby('ID')):\n",
    "    diff = subject_data['time'].diff()\n",
    "    print('Average difference: {}'.format(diff.mean()))"
   ]
  },
  {
   "cell_type": "code",
   "execution_count": 57,
   "metadata": {},
   "outputs": [],
   "source": [
    "heart_rates.to_csv('heart_rates.csv', index=False)"
   ]
  },
  {
   "cell_type": "code",
   "execution_count": 71,
   "metadata": {},
   "outputs": [
    {
     "data": {
      "image/png": "[encoded data removed]",
      "text/plain": [
       "<Figure size 432x288 with 1 Axes>"
      ]
     },
     "metadata": {
      "needs_background": "light"
     },
     "output_type": "display_data"
    }
   ],
   "source": [
    "plt.figure()\n",
    "plt.hist(heart_rates['heart_rate'], bins=100,histtype='stepfilled')\n",
    "plt.title('Distirbution of Heart rates')\n",
    "plt.xlabel('Scaled value')\n",
    "plt.ylabel('Frequency')\n",
    "plt.show()"
   ]
  },
  {
   "cell_type": "code",
   "execution_count": null,
   "metadata": {},
   "outputs": [],
   "source": []
  }
 ],
 "metadata": {
  "kernelspec": {
   "display_name": "Python 3",
   "language": "python",
   "name": "python3"
  },
  "language_info": {
   "codemirror_mode": {
    "name": "ipython",
    "version": 3
   },
   "file_extension": ".py",
   "mimetype": "text/x-python",
   "name": "python",
   "nbconvert_exporter": "python",
   "pygments_lexer": "ipython3",
   "version": "3.8.5"
  }
 },
 "nbformat": 4,
 "nbformat_minor": 4
}
