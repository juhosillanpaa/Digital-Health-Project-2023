{
 "cells": [
  {
   "cell_type": "code",
   "execution_count": null,
   "metadata": {},
   "outputs": [],
   "source": []
  },
  {
   "cell_type": "code",
   "execution_count": 1,
   "metadata": {},
   "outputs": [],
   "source": [
    "import numpy as np\n",
    "import math\n",
    "import time\n",
    "from datetime import datetime, timezone\n",
    "import pandas as pd\n",
    "import seaborn as sns\n",
    "import matplotlib.pyplot as plt\n",
    "from sklearn.preprocessing import StandardScaler\n",
    "from sklearn.model_selection import train_test_split\n",
    "from sklearn.preprocessing import MinMaxScaler\n",
    "from sklearn.preprocessing import MinMaxScaler\n",
    "from sklearn.metrics import mean_squared_error\n",
    "from sklearn.neural_network import MLPClassifier\n",
    "from sklearn.metrics import confusion_matrix\n",
    "from sklearn.metrics import accuracy_score\n",
    "from sklearn.metrics import ConfusionMatrixDisplay\n",
    "from sklearn.ensemble import RandomForestClassifier\n",
    "from sklearn.metrics import accuracy_score, classification_report\n",
    "from sklearn.svm import SVC"
   ]
  },
  {
   "cell_type": "code",
   "execution_count": 2,
   "metadata": {},
   "outputs": [],
   "source": [
    "heart_rates = pd.read_csv('heart_rates.csv')\n",
    "heart_rates['time'] = pd.to_datetime(heart_rates['time'])"
   ]
  },
  {
   "cell_type": "code",
   "execution_count": 3,
   "metadata": {},
   "outputs": [],
   "source": [
    "steps = pd.read_csv('steps.csv')\n",
    "steps['time'] = pd.to_datetime(steps['time'])"
   ]
  },
  {
   "cell_type": "code",
   "execution_count": 4,
   "metadata": {},
   "outputs": [
    {
     "data": {
      "text/html": [
       "<div>\n",
       "<style scoped>\n",
       "    .dataframe tbody tr th:only-of-type {\n",
       "        vertical-align: middle;\n",
       "    }\n",
       "\n",
       "    .dataframe tbody tr th {\n",
       "        vertical-align: top;\n",
       "    }\n",
       "\n",
       "    .dataframe thead th {\n",
       "        text-align: right;\n",
       "    }\n",
       "</style>\n",
       "<table border=\"1\" class=\"dataframe\">\n",
       "  <thead>\n",
       "    <tr style=\"text-align: right;\">\n",
       "      <th></th>\n",
       "      <th>time</th>\n",
       "      <th>sleep</th>\n",
       "      <th>ID</th>\n",
       "    </tr>\n",
       "  </thead>\n",
       "  <tbody>\n",
       "    <tr>\n",
       "      <th>0</th>\n",
       "      <td>2023-12-10 22:00:30</td>\n",
       "      <td>0</td>\n",
       "      <td>3509524</td>\n",
       "    </tr>\n",
       "    <tr>\n",
       "      <th>1</th>\n",
       "      <td>2023-12-10 22:01:00</td>\n",
       "      <td>0</td>\n",
       "      <td>3509524</td>\n",
       "    </tr>\n",
       "    <tr>\n",
       "      <th>2</th>\n",
       "      <td>2023-12-10 22:01:30</td>\n",
       "      <td>0</td>\n",
       "      <td>3509524</td>\n",
       "    </tr>\n",
       "    <tr>\n",
       "      <th>3</th>\n",
       "      <td>2023-12-10 22:02:00</td>\n",
       "      <td>0</td>\n",
       "      <td>3509524</td>\n",
       "    </tr>\n",
       "    <tr>\n",
       "      <th>4</th>\n",
       "      <td>2023-12-10 22:02:30</td>\n",
       "      <td>0</td>\n",
       "      <td>3509524</td>\n",
       "    </tr>\n",
       "  </tbody>\n",
       "</table>\n",
       "</div>"
      ],
      "text/plain": [
       "                 time  sleep       ID\n",
       "0 2023-12-10 22:00:30      0  3509524\n",
       "1 2023-12-10 22:01:00      0  3509524\n",
       "2 2023-12-10 22:01:30      0  3509524\n",
       "3 2023-12-10 22:02:00      0  3509524\n",
       "4 2023-12-10 22:02:30      0  3509524"
      ]
     },
     "execution_count": 4,
     "metadata": {},
     "output_type": "execute_result"
    }
   ],
   "source": [
    "labels = pd.read_csv('labels.csv')\n",
    "labels['time'] = pd.to_datetime(labels['time'])\n",
    "labels.head()"
   ]
  },
  {
   "cell_type": "code",
   "execution_count": 22,
   "metadata": {},
   "outputs": [
    {
     "data": {
      "text/html": [
       "<div>\n",
       "<style scoped>\n",
       "    .dataframe tbody tr th:only-of-type {\n",
       "        vertical-align: middle;\n",
       "    }\n",
       "\n",
       "    .dataframe tbody tr th {\n",
       "        vertical-align: top;\n",
       "    }\n",
       "\n",
       "    .dataframe thead th {\n",
       "        text-align: right;\n",
       "    }\n",
       "</style>\n",
       "<table border=\"1\" class=\"dataframe\">\n",
       "  <thead>\n",
       "    <tr style=\"text-align: right;\">\n",
       "      <th></th>\n",
       "      <th>time</th>\n",
       "      <th>x</th>\n",
       "      <th>y</th>\n",
       "      <th>z</th>\n",
       "      <th>ID</th>\n",
       "    </tr>\n",
       "  </thead>\n",
       "  <tbody>\n",
       "    <tr>\n",
       "      <th>0</th>\n",
       "      <td>2023-12-10 22:00:30.017312050</td>\n",
       "      <td>0.376553</td>\n",
       "      <td>0.902454</td>\n",
       "      <td>0.776656</td>\n",
       "      <td>46343</td>\n",
       "    </tr>\n",
       "    <tr>\n",
       "      <th>1</th>\n",
       "      <td>2023-12-10 22:00:30.037297964</td>\n",
       "      <td>0.375726</td>\n",
       "      <td>0.899671</td>\n",
       "      <td>0.781244</td>\n",
       "      <td>46343</td>\n",
       "    </tr>\n",
       "    <tr>\n",
       "      <th>2</th>\n",
       "      <td>2023-12-10 22:00:30.057515144</td>\n",
       "      <td>0.376503</td>\n",
       "      <td>0.900401</td>\n",
       "      <td>0.784297</td>\n",
       "      <td>46343</td>\n",
       "    </tr>\n",
       "    <tr>\n",
       "      <th>3</th>\n",
       "      <td>2023-12-10 22:00:30.077198982</td>\n",
       "      <td>0.379463</td>\n",
       "      <td>0.902950</td>\n",
       "      <td>0.779503</td>\n",
       "      <td>46343</td>\n",
       "    </tr>\n",
       "    <tr>\n",
       "      <th>4</th>\n",
       "      <td>2023-12-10 22:00:30.097036839</td>\n",
       "      <td>0.378901</td>\n",
       "      <td>0.905098</td>\n",
       "      <td>0.783409</td>\n",
       "      <td>46343</td>\n",
       "    </tr>\n",
       "  </tbody>\n",
       "</table>\n",
       "</div>"
      ],
      "text/plain": [
       "                           time         x         y         z     ID\n",
       "0 2023-12-10 22:00:30.017312050  0.376553  0.902454  0.776656  46343\n",
       "1 2023-12-10 22:00:30.037297964  0.375726  0.899671  0.781244  46343\n",
       "2 2023-12-10 22:00:30.057515144  0.376503  0.900401  0.784297  46343\n",
       "3 2023-12-10 22:00:30.077198982  0.379463  0.902950  0.779503  46343\n",
       "4 2023-12-10 22:00:30.097036839  0.378901  0.905098  0.783409  46343"
      ]
     },
     "execution_count": 22,
     "metadata": {},
     "output_type": "execute_result"
    }
   ],
   "source": [
    "accelerations = pd.read_csv('accelerations.csv')\n",
    "accelerations['time'] = pd.to_datetime(accelerations['time'])\n",
    "accelerations.head()"
   ]
  },
  {
   "cell_type": "markdown",
   "metadata": {},
   "source": [
    "## Sleep + HR + Acceleration visualization"
   ]
  },
  {
   "cell_type": "code",
   "execution_count": null,
   "metadata": {},
   "outputs": [],
   "source": [
    "\n",
    "for _, (subject_id, subject_labels) in enumerate(labels.groupby('ID')):\n",
    "\n",
    "    print('subject id: {}'.format(subject_id))\n",
    "    start = subject_labels['time'].min()\n",
    "    end = subject_labels['time'].max()\n",
    "    \n",
    "    subject_hr = heart_rates[\n",
    "        (heart_rates['time'] >= start)\n",
    "        & (heart_rates['time'] <= end)\n",
    "        & (heart_rates['ID'] == subject_id)\n",
    "    ]\n",
    "    subject_acc = accelerations[(accelerations['ID'] == subject_id)]\n",
    "    plt.figure()\n",
    "    plt.plot(subject_labels['time'], subject_labels['sleep'], label='Sleep', alpha=0.5)\n",
    "    plt.plot(subject_hr['time'], subject_hr['heart_rate'], label='Heart rate', alpha=0.5)\n",
    "    plt.plot(subject_acc['time'], subject_acc['x'], label='Acceleration x', alpha=0.5)\n",
    "    plt.plot(subject_acc['time'], subject_acc['y'], label='Acceleration y', alpha=0.5)\n",
    "    plt.plot(subject_acc['time'], subject_acc['z'], label='Acceleration z', alpha=0.5)\n",
    "    plt.xlabel('time')\n",
    "    plt.title(subject_id)\n",
    "    plt.legend()\n",
    "\n",
    "plt.show()\n"
   ]
  },
  {
   "cell_type": "code",
   "execution_count": 12,
   "metadata": {},
   "outputs": [
    {
     "name": "stdout",
     "output_type": "stream",
     "text": [
      "Value -1 appears 418 times.\n",
      "Value 0 appears 2418 times.\n",
      "Value 1 appears 1821 times.\n",
      "Value 2 appears 12954 times.\n",
      "Value 3 appears 3329 times.\n",
      "Value 4 appears 356 times.\n",
      "Value 5 appears 5884 times.\n"
     ]
    }
   ],
   "source": [
    "unique_values, counts = np.unique(labels['sleep'], return_counts=True)\n",
    "\n",
    "# Display the counts for each unique value\n",
    "for value, count in zip(unique_values, counts):\n",
    "    print(f\"Value {value} appears {count} times.\")"
   ]
  },
  {
   "cell_type": "markdown",
   "metadata": {},
   "source": [
    "# Modelling"
   ]
  },
  {
   "cell_type": "code",
   "execution_count": 13,
   "metadata": {},
   "outputs": [],
   "source": [
    "def add_label(df, label, sub_id, start, end):\n",
    "    condition = (df['time']>= start) & (df['time'] <= end) & (df['ID'] == sub_id)\n",
    "    df.loc[condition, 'sleep'] = label\n",
    "    return df"
   ]
  },
  {
   "cell_type": "code",
   "execution_count": 14,
   "metadata": {},
   "outputs": [],
   "source": [
    "def check_sizes(X, Y):\n",
    "    lengths = [len(inner_array) for inner_array in X]\n",
    "\n",
    "    unique_values, counts = np.unique(lengths, return_counts=True)\n",
    "\n",
    "    # Display the counts for each unique value\n",
    "    for value, count in zip(unique_values, counts):\n",
    "        print(f\"Value {value} appears {count} times. percentage\")\n",
    "\n",
    "    print(len(Y))\n",
    "    print(len(X))"
   ]
  },
  {
   "cell_type": "code",
   "execution_count": 15,
   "metadata": {},
   "outputs": [],
   "source": [
    "def check_count(X):\n",
    "    unique_values, counts = np.unique(X, return_counts=True)\n",
    "\n",
    "    # Display the counts for each unique value\n",
    "    for value, count in zip(unique_values, counts):\n",
    "        print(f\"Value {value} appears {count} times. percentage: {round(count*100 / len(X), 2)}\")\n",
    "        \n",
    "    "
   ]
  },
  {
   "cell_type": "code",
   "execution_count": 16,
   "metadata": {},
   "outputs": [],
   "source": [
    "def eval(test, pred):\n",
    "    # Evaluate the model\n",
    "    accuracy = accuracy_score(test, pred)\n",
    "    print(\"Accuracy:\", accuracy)\n",
    "\n",
    "    # Display classification report\n",
    "    print(\"Classification Report:\")\n",
    "    print(classification_report(test, pred))\n",
    "    cm = confusion_matrix(test, pred)\n",
    "\n",
    "    #Printing the accuracy\n",
    "    print(cm)\n",
    "    disp = ConfusionMatrixDisplay(confusion_matrix=cm)\n",
    "    disp.plot()\n",
    "    plt.show()"
   ]
  },
  {
   "cell_type": "code",
   "execution_count": 17,
   "metadata": {},
   "outputs": [
    {
     "name": "stdout",
     "output_type": "stream",
     "text": [
      "Value -1 appears 418 times. percentage: 1.54\n",
      "Value 0 appears 2418 times. percentage: 8.9\n",
      "Value 1 appears 1821 times. percentage: 6.7\n",
      "Value 2 appears 12954 times. percentage: 47.66\n",
      "Value 3 appears 3329 times. percentage: 12.25\n",
      "Value 4 appears 356 times. percentage: 1.31\n",
      "Value 5 appears 5884 times. percentage: 21.65\n"
     ]
    }
   ],
   "source": [
    "check_count(labels['sleep'])"
   ]
  },
  {
   "cell_type": "code",
   "execution_count": 18,
   "metadata": {},
   "outputs": [],
   "source": [
    "def create_sequences(data, seq_length):\n",
    "    sequences = []\n",
    "    for i in range(len(data) - seq_length + 1):\n",
    "        seq = data[i:i+seq_length]\n",
    "        sequences.append(seq)\n",
    "    return np.array(sequences)"
   ]
  },
  {
   "cell_type": "code",
   "execution_count": 178,
   "metadata": {},
   "outputs": [],
   "source": [
    "def create_XY_sleep_wake(seq_length):\n",
    "    hr_copy = heart_rates.copy()\n",
    "    labels_copy =labels.copy()\n",
    "    \n",
    "    hr_copy['sleep'] = None\n",
    "    \n",
    "    labels_copy['sleep'] = labels_copy['sleep'].replace(-1,0)\n",
    "    labels_copy['sleep'] = labels_copy['sleep'].replace(2,1)\n",
    "    labels_copy['sleep'] = labels_copy['sleep'].replace(3,1)\n",
    "    labels_copy['sleep'] = labels_copy['sleep'].replace(4,1)\n",
    "    labels_copy['sleep'] = labels_copy['sleep'].replace(5,1)\n",
    "    \n",
    "    for idx, (subject_id, subject_labels) in enumerate(labels_copy.groupby('ID')):\n",
    "        label = 0\n",
    "        start = subject_labels['time'].min()\n",
    "        end = start\n",
    "        for _, row in subject_labels.iterrows():\n",
    "            current_label = row['sleep']\n",
    "            if (current_label != label):\n",
    "                #new sleep stage => add previous sleep stages\n",
    "                hr_copy = add_label(hr_copy, label, subject_id, start, end)\n",
    "                start = row['time']\n",
    "                label=row['sleep']\n",
    "\n",
    "            end=row['time']\n",
    "            \n",
    "    l1 = len(hr_copy)\n",
    "    hr_copy = hr_copy.dropna()\n",
    "    l2 = len(hr_copy)\n",
    "    print('number of removed rows: ', l1 - l2)\n",
    "    \n",
    "    X = []\n",
    "    Y = []\n",
    "    for i, (group, group_df) in enumerate(hr_copy.groupby(['ID', 'sleep'])):\n",
    "        #print('idx: {}'.format(i))\n",
    "        label = group_df.iloc[0]['sleep']\n",
    "        x = create_sequences(group_df['heart_rate'], seq_length)\n",
    "        y = np.full(len(x), label)\n",
    "        if i == 0:\n",
    "            X = x\n",
    "        else:\n",
    "            X = np.concatenate((X, x), axis = 0)\n",
    "        Y.extend(y)\n",
    "    return X, Y\n",
    "    "
   ]
  },
  {
   "cell_type": "markdown",
   "metadata": {},
   "source": [
    "## Model 1 (sleep vs awake)"
   ]
  },
  {
   "cell_type": "code",
   "execution_count": 179,
   "metadata": {},
   "outputs": [
    {
     "name": "stdout",
     "output_type": "stream",
     "text": [
      "number of removed rows:  85078\n"
     ]
    }
   ],
   "source": [
    "X, Y = create_XY_sleep_wake(6)\n",
    "X_train1, X_test1, y_train1, y_test1 = train_test_split(X, Y, test_size=0.2, random_state=42)"
   ]
  },
  {
   "cell_type": "code",
   "execution_count": 181,
   "metadata": {},
   "outputs": [
    {
     "name": "stdout",
     "output_type": "stream",
     "text": [
      "Value 0 appears 10809 times. percentage: 7.99\n",
      "Value 1 appears 124395 times. percentage: 92.01\n",
      "Value 0 appears 2685 times. percentage: 7.94\n",
      "Value 1 appears 31117 times. percentage: 92.06\n"
     ]
    }
   ],
   "source": [
    "check_count(y_train1)\n",
    "check_count(y_test1)"
   ]
  },
  {
   "cell_type": "code",
   "execution_count": 186,
   "metadata": {
    "scrolled": true
   },
   "outputs": [],
   "source": [
    "classifier1 = MLPClassifier(\n",
    "    activation='relu',\n",
    "    hidden_layer_sizes=(64,64,32),\n",
    "    max_iter=100,\n",
    "    alpha=0.01,\n",
    "    solver='adam'\n",
    ")\n",
    "\n",
    "classifier1.fit(X_train1, y_train1)\n",
    "y_pred1 = classifier1.predict(X_test1)"
   ]
  },
  {
   "cell_type": "code",
   "execution_count": 194,
   "metadata": {},
   "outputs": [
    {
     "name": "stdout",
     "output_type": "stream",
     "text": [
      "Value 0 appears 8 times. percentage: 0.02\n",
      "Value 1 appears 33794 times. percentage: 99.98\n",
      "Value 0 appears 2685 times. percentage: 7.94\n",
      "Value 1 appears 31117 times. percentage: 92.06\n"
     ]
    }
   ],
   "source": [
    "check_count(y_pred1)\n",
    "check_count(y_test1)"
   ]
  },
  {
   "cell_type": "code",
   "execution_count": 192,
   "metadata": {
    "scrolled": true
   },
   "outputs": [
    {
     "name": "stdout",
     "output_type": "stream",
     "text": [
      "[[    5     3]\n",
      " [ 2680 31114]]\n",
      "accuracy score: 0.9206259984616295\n"
     ]
    },
    {
     "data": {
      "image/png": "[encoded data removed]",
      "text/plain": [
       "<Figure size 432x288 with 2 Axes>"
      ]
     },
     "metadata": {
      "needs_background": "light"
     },
     "output_type": "display_data"
    }
   ],
   "source": [
    "cm1 = confusion_matrix(y_pred1, y_test1)\n",
    "\n",
    "#Printing the accuracy\n",
    "print(cm1)\n",
    "print(\"accuracy score: {}\".format(accuracy_score(y_test1, y_pred1)))\n",
    "disp = ConfusionMatrixDisplay(confusion_matrix=cm1)\n",
    "disp.plot()\n",
    "plt.show()"
   ]
  },
  {
   "cell_type": "code",
   "execution_count": 196,
   "metadata": {},
   "outputs": [
    {
     "name": "stdout",
     "output_type": "stream",
     "text": [
      "number of removed rows:  85078\n",
      "[[   15     8]\n",
      " [ 2584 31083]]\n",
      "accuracy score: 0.9230632235084595\n"
     ]
    },
    {
     "data": {
      "image/png": "[encoded data removed]",
      "text/plain": [
       "<Figure size 432x288 with 2 Axes>"
      ]
     },
     "metadata": {
      "needs_background": "light"
     },
     "output_type": "display_data"
    }
   ],
   "source": [
    "X, Y = create_XY_sleep_wake(15)\n",
    "X_train1_b, X_test1_b, y_train1_b, y_test1_b = train_test_split(X, Y, test_size=0.2, random_state=42)\n",
    "\n",
    "classifier1_b = MLPClassifier(\n",
    "    activation='relu',\n",
    "    hidden_layer_sizes=(64,64,32),\n",
    "    max_iter=100,\n",
    "    alpha=0.01,\n",
    "    solver='adam'\n",
    ")\n",
    "\n",
    "classifier1_b.fit(X_train1_b, y_train1_b)\n",
    "y_pred1_b = classifier1_b.predict(X_test1_b)\n",
    "\n",
    "cm1_b = confusion_matrix(y_pred1_b, y_test1_b)\n",
    "\n",
    "#Printing the accuracy\n",
    "print(cm1_b)\n",
    "print(\"accuracy score: {}\".format(accuracy_score(y_test1_b, y_pred1_b)))\n",
    "disp = ConfusionMatrixDisplay(confusion_matrix=cm1_b)\n",
    "disp.plot()\n",
    "plt.show()"
   ]
  },
  {
   "cell_type": "markdown",
   "metadata": {},
   "source": [
    "## Model 2 (sleep stages)"
   ]
  },
  {
   "cell_type": "code",
   "execution_count": 188,
   "metadata": {},
   "outputs": [],
   "source": [
    "def create_XY_sleep_stages(seq_length):\n",
    "    hr_copy = heart_rates.copy()\n",
    "    labels_copy =labels.copy()\n",
    "    \n",
    "    hr_copy['sleep'] = None\n",
    "    labels_copy['sleep'] = labels_copy['sleep'].replace(-1,0)\n",
    "\n",
    "\n",
    "    for idx, (subject_id, subject_labels) in enumerate(labels_copy.groupby('ID')):\n",
    "        label = 0\n",
    "        start = subject_labels['time'].min()\n",
    "        end = start\n",
    "        for _, row in subject_labels.iterrows():\n",
    "            current_label = row['sleep']\n",
    "            if (current_label != label):\n",
    "                #new sleep stage => add previous sleep stages\n",
    "                hr_copy = add_label(hr_copy, label, subject_id, start, end)\n",
    "                start = row['time']\n",
    "                label=row['sleep']\n",
    "\n",
    "            end=row['time']\n",
    "    \n",
    "    l1 = len(hr_copy)\n",
    "    hr_copy = hr_copy.dropna()\n",
    "    l2 = len(hr_copy)\n",
    "    print('number of removed rows: ', l1 - l2)\n",
    "            \n",
    "    X = []\n",
    "    Y = []\n",
    "    for i, (group, group_df) in enumerate(hr_copy.groupby(['ID', 'sleep'])):\n",
    "        #print('idx: {}'.format(i))\n",
    "        label = group_df.iloc[0]['sleep']\n",
    "        x = create_sequences(group_df['heart_rate'], seq_length)\n",
    "        y = np.full(len(x), label)\n",
    "        if i == 0:\n",
    "            X = x\n",
    "        else:\n",
    "            X = np.concatenate((X, x), axis = 0)\n",
    "        Y.extend(y)\n",
    "    return X, Y"
   ]
  },
  {
   "cell_type": "code",
   "execution_count": 189,
   "metadata": {},
   "outputs": [
    {
     "name": "stdout",
     "output_type": "stream",
     "text": [
      "number of removed rows:  96890\n",
      "Value 0 appears 10674 times. percentage: 8.55\n",
      "Value 1 appears 5779 times. percentage: 4.63\n",
      "Value 2 appears 62574 times. percentage: 50.11\n",
      "Value 3 appears 14582 times. percentage: 11.68\n",
      "Value 4 appears 1488 times. percentage: 1.19\n",
      "Value 5 appears 29783 times. percentage: 23.85\n",
      "Value 0 appears 2696 times. percentage: 8.64\n",
      "Value 1 appears 1401 times. percentage: 4.49\n",
      "Value 2 appears 15327 times. percentage: 49.09\n",
      "Value 3 appears 3816 times. percentage: 12.22\n",
      "Value 4 appears 400 times. percentage: 1.28\n",
      "Value 5 appears 7580 times. percentage: 24.28\n"
     ]
    }
   ],
   "source": [
    "X_2a, Y_2a = create_XY_sleep_stages(10)\n",
    "X_train_2a, X_test_2a, y_train_2a, y_test_2a = train_test_split(X_2a, Y_2a, test_size=0.2, random_state=42)\n",
    "check_count(y_train_2a)\n",
    "check_count(y_test_2a)"
   ]
  },
  {
   "cell_type": "code",
   "execution_count": 190,
   "metadata": {
    "scrolled": true
   },
   "outputs": [
    {
     "name": "stderr",
     "output_type": "stream",
     "text": [
      "C:\\Users\\juho\\anaconda3\\lib\\site-packages\\sklearn\\neural_network\\_multilayer_perceptron.py:582: ConvergenceWarning: Stochastic Optimizer: Maximum iterations (100) reached and the optimization hasn't converged yet.\n",
      "  warnings.warn(\n"
     ]
    }
   ],
   "source": [
    "classifier_2a = MLPClassifier(\n",
    "    activation='relu',\n",
    "    hidden_layer_sizes=(64,64,32,16),\n",
    "    max_iter=100,\n",
    "    alpha=0.01,\n",
    "    solver='adam'\n",
    ")\n",
    "\n",
    "classifier_2a.fit(X_train_2a, y_train_2a)\n",
    "y_pred_2a = classifier_2a.predict(X_test_2a)"
   ]
  },
  {
   "cell_type": "code",
   "execution_count": 195,
   "metadata": {},
   "outputs": [
    {
     "name": "stdout",
     "output_type": "stream",
     "text": [
      "[[  282    89    84     7     3   135]\n",
      " [   62   162    70     0     0    87]\n",
      " [ 1588   879 13878  3339   319  4972]\n",
      " [   52    11   122   354    56    66]\n",
      " [    0     0     0     0     0     0]\n",
      " [  712   260  1173   116    22  2320]]\n",
      "accuracy score: 0.5443946188340807\n"
     ]
    },
    {
     "data": {
      "image/png": "[encoded data removed]",
      "text/plain": [
       "<Figure size 432x288 with 2 Axes>"
      ]
     },
     "metadata": {
      "needs_background": "light"
     },
     "output_type": "display_data"
    }
   ],
   "source": [
    "cm_2a = confusion_matrix(y_pred_2a, y_test_2a)\n",
    "\n",
    "#Printing the accuracy\n",
    "print(cm_2a)\n",
    "print(\"accuracy score: {}\".format(accuracy_score(y_test_2a, y_pred_2a)))\n",
    "disp = ConfusionMatrixDisplay(confusion_matrix=cm1)\n",
    "disp.plot()\n",
    "plt.show()"
   ]
  },
  {
   "cell_type": "markdown",
   "metadata": {},
   "source": [
    "# Model 3 RFC"
   ]
  },
  {
   "cell_type": "code",
   "execution_count": 209,
   "metadata": {},
   "outputs": [
    {
     "name": "stdout",
     "output_type": "stream",
     "text": [
      "number of removed rows:  85078\n"
     ]
    }
   ],
   "source": [
    "X, Y = create_XY_sleep_wake(6)\n",
    "X_train3, X_test3, y_train3, y_test3 = train_test_split(X, Y, test_size=0.2, random_state=42)\n"
   ]
  },
  {
   "cell_type": "code",
   "execution_count": 210,
   "metadata": {},
   "outputs": [
    {
     "name": "stdout",
     "output_type": "stream",
     "text": [
      "Value 0 appears 10809 times. percentage: 7.99\n",
      "Value 1 appears 124395 times. percentage: 92.01\n",
      "Value 0 appears 2685 times. percentage: 7.94\n",
      "Value 1 appears 31117 times. percentage: 92.06\n"
     ]
    }
   ],
   "source": [
    "check_count(y_train3)\n",
    "check_count(y_test3)"
   ]
  },
  {
   "cell_type": "code",
   "execution_count": 211,
   "metadata": {},
   "outputs": [],
   "source": [
    "rf_classifier = RandomForestClassifier(n_estimators=6, random_state=42)\n",
    "\n",
    "# Train the classifier\n",
    "rf_classifier.fit(X_train3, y_train3)\n",
    "\n",
    "# Make predictions on the test set\n",
    "y_pred3 = rf_classifier.predict(X_test3)"
   ]
  },
  {
   "cell_type": "code",
   "execution_count": 212,
   "metadata": {},
   "outputs": [
    {
     "name": "stdout",
     "output_type": "stream",
     "text": [
      "Accuracy: 0.9121649606532158\n",
      "Classification Report:\n",
      "              precision    recall  f1-score   support\n",
      "\n",
      "           0       0.40      0.20      0.27      2685\n",
      "           1       0.93      0.97      0.95     31117\n",
      "\n",
      "    accuracy                           0.91     33802\n",
      "   macro avg       0.66      0.59      0.61     33802\n",
      "weighted avg       0.89      0.91      0.90     33802\n",
      "\n",
      "[[  539  2146]\n",
      " [  823 30294]]\n"
     ]
    },
    {
     "data": {
      "image/png": "[encoded data removed]",
      "text/plain": [
       "<Figure size 432x288 with 2 Axes>"
      ]
     },
     "metadata": {
      "needs_background": "light"
     },
     "output_type": "display_data"
    }
   ],
   "source": [
    "eval(y_test3, y_pred3)"
   ]
  },
  {
   "cell_type": "code",
   "execution_count": null,
   "metadata": {},
   "outputs": [],
   "source": []
  },
  {
   "cell_type": "code",
   "execution_count": null,
   "metadata": {},
   "outputs": [],
   "source": []
  },
  {
   "cell_type": "markdown",
   "metadata": {},
   "source": [
    "# Model 4 (Support Vector Machines)"
   ]
  },
  {
   "cell_type": "code",
   "execution_count": 213,
   "metadata": {},
   "outputs": [
    {
     "name": "stdout",
     "output_type": "stream",
     "text": [
      "number of removed rows:  85078\n"
     ]
    }
   ],
   "source": [
    "X, Y = create_XY_sleep_wake(6)\n",
    "X_train4, X_test4, y_train4, y_test4 = train_test_split(X, Y, test_size=0.2, random_state=42)\n"
   ]
  },
  {
   "cell_type": "code",
   "execution_count": 214,
   "metadata": {},
   "outputs": [
    {
     "name": "stdout",
     "output_type": "stream",
     "text": [
      "Value 0 appears 10809 times. percentage: 7.99\n",
      "Value 1 appears 124395 times. percentage: 92.01\n",
      "Value 0 appears 2685 times. percentage: 7.94\n",
      "Value 1 appears 31117 times. percentage: 92.06\n"
     ]
    }
   ],
   "source": [
    "check_count(y_train4)\n",
    "check_count(y_test4)"
   ]
  },
  {
   "cell_type": "code",
   "execution_count": 215,
   "metadata": {},
   "outputs": [],
   "source": [
    "svm_classifier = SVC(kernel='linear', C=1.0, random_state=42)\n",
    "\n",
    "svm_classifier.fit(X_train4, y_train4)\n",
    "\n",
    "\n",
    "y_pred4 = svm_classifier.predict(X_test4)"
   ]
  },
  {
   "cell_type": "code",
   "execution_count": 216,
   "metadata": {},
   "outputs": [
    {
     "name": "stdout",
     "output_type": "stream",
     "text": [
      "Accuracy: 0.9205668303650671\n",
      "Classification Report:\n",
      "              precision    recall  f1-score   support\n",
      "\n",
      "           0       0.00      0.00      0.00      2685\n",
      "           1       0.92      1.00      0.96     31117\n",
      "\n",
      "    accuracy                           0.92     33802\n",
      "   macro avg       0.46      0.50      0.48     33802\n",
      "weighted avg       0.85      0.92      0.88     33802\n",
      "\n",
      "[[    0  2685]\n",
      " [    0 31117]]\n"
     ]
    },
    {
     "name": "stderr",
     "output_type": "stream",
     "text": [
      "C:\\Users\\juho\\anaconda3\\lib\\site-packages\\sklearn\\metrics\\_classification.py:1221: UndefinedMetricWarning: Precision and F-score are ill-defined and being set to 0.0 in labels with no predicted samples. Use `zero_division` parameter to control this behavior.\n",
      "  _warn_prf(average, modifier, msg_start, len(result))\n"
     ]
    },
    {
     "data": {
      "image/png": "[encoded data removed]",
      "text/plain": [
       "<Figure size 432x288 with 2 Axes>"
      ]
     },
     "metadata": {
      "needs_background": "light"
     },
     "output_type": "display_data"
    }
   ],
   "source": [
    "eval(y_test4, y_pred4)"
   ]
  },
  {
   "cell_type": "code",
   "execution_count": null,
   "metadata": {},
   "outputs": [],
   "source": []
  },
  {
   "cell_type": "markdown",
   "metadata": {},
   "source": [
    "# Add accelerations to sequence"
   ]
  },
  {
   "cell_type": "code",
   "execution_count": 23,
   "metadata": {},
   "outputs": [],
   "source": [
    "\n",
    "def create_XY_sleep_wake_with_acc(seq_length):\n",
    "    #hr_copy = heart_rates.copy()\n",
    "    acc_copy = accelerations.copy()\n",
    "    labels_copy =labels.copy()\n",
    "    \n",
    "    #hr_copy['sleep'] = None\n",
    "    acc_copy['sleep'] = None\n",
    "    \n",
    "    labels_copy['sleep'] = labels_copy['sleep'].replace(-1,0)\n",
    "    labels_copy['sleep'] = labels_copy['sleep'].replace(2,1)\n",
    "    labels_copy['sleep'] = labels_copy['sleep'].replace(3,1)\n",
    "    labels_copy['sleep'] = labels_copy['sleep'].replace(4,1)\n",
    "    labels_copy['sleep'] = labels_copy['sleep'].replace(5,1)\n",
    "     \n",
    "    X = []\n",
    "    Y = []\n",
    "    \n",
    "    first = True\n",
    "    \n",
    "    for idx, (_, subject_labels) in enumerate(labels_copy.groupby('ID')):\n",
    "        print('index: {}'.format(idx))\n",
    "        subject_id = subject_labels.iloc[0]['ID']\n",
    "        \n",
    "        acc = acc_copy[acc_copy['ID'] == subject_id]\n",
    "        \n",
    "        for _, (_, label_group) in enumerate(subject_labels.groupby('sleep')):\n",
    "            label= label_group.iloc[0]['sleep']\n",
    "        \n",
    "            start = label_group['time'].min()\n",
    "            end = label_group['time'].max()\n",
    "        \n",
    "            condition = (acc['time']>= start) & (acc['time'] <= end)\n",
    "            filtered = acc[condition]\n",
    "            x = create_sequences(filtered['x'], seq_length)\n",
    "            y = np.full(len(x), label)\n",
    "            \n",
    "            if first:\n",
    "                X = x\n",
    "                first = False\n",
    "            else:\n",
    "                X = np.concatenate((X, x), axis = 0)\n",
    "            Y.extend(y)\n",
    "        \n",
    "        break\n",
    "            \n",
    "    return X, Y\n",
    "\n",
    "\n",
    "    \n"
   ]
  },
  {
   "cell_type": "code",
   "execution_count": 24,
   "metadata": {},
   "outputs": [
    {
     "name": "stdout",
     "output_type": "stream",
     "text": [
      "index: 0\n"
     ]
    }
   ],
   "source": [
    "X, Y = create_XY_sleep_wake_with_acc(20)\n",
    "X_train5, X_test5, y_train5, y_test5 = train_test_split(X, Y, test_size=0.2, random_state=42)"
   ]
  },
  {
   "cell_type": "code",
   "execution_count": 25,
   "metadata": {},
   "outputs": [
    {
     "name": "stdout",
     "output_type": "stream",
     "text": [
      "Value 0 appears 677105 times. percentage: 53.76\n",
      "Value 1 appears 582363 times. percentage: 46.24\n",
      "Value 0 appears 169132 times. percentage: 53.72\n",
      "Value 1 appears 145736 times. percentage: 46.28\n"
     ]
    }
   ],
   "source": [
    "check_count(y_train5)\n",
    "check_count(y_test5)"
   ]
  },
  {
   "cell_type": "code",
   "execution_count": 37,
   "metadata": {},
   "outputs": [],
   "source": [
    "n = 10**6\n",
    "X_train5_small = X_train5[:n]\n",
    "X_test5_small = X_test5[:n]\n",
    "y_train5_small = y_train5[:n]\n",
    "y_test5_small = y_test5[:n]"
   ]
  },
  {
   "cell_type": "code",
   "execution_count": 38,
   "metadata": {},
   "outputs": [],
   "source": [
    "rf_classifier_acc = RandomForestClassifier(n_estimators=20, random_state=42)\n",
    "\n",
    "# Train the classifier\n",
    "rf_classifier_acc.fit(X_train5_small, y_train5_small)\n",
    "\n",
    "# Make predictions on the test set\n",
    "y_pred5_small = rf_classifier_acc.predict(X_test5_small)\n",
    "\n"
   ]
  },
  {
   "cell_type": "code",
   "execution_count": 39,
   "metadata": {},
   "outputs": [
    {
     "name": "stdout",
     "output_type": "stream",
     "text": [
      "Accuracy: 0.2433527700496716\n",
      "Classification Report:\n",
      "              precision    recall  f1-score   support\n",
      "\n",
      "           0       0.30      0.31      0.30    169132\n",
      "           1       0.17      0.17      0.17    145736\n",
      "\n",
      "    accuracy                           0.24    314868\n",
      "   macro avg       0.24      0.24      0.24    314868\n",
      "weighted avg       0.24      0.24      0.24    314868\n",
      "\n",
      "[[ 51962 117170]\n",
      " [121074  24662]]\n"
     ]
    },
    {
     "data": {
      "image/png": "[encoded data removed]",
      "text/plain": [
       "<Figure size 432x288 with 2 Axes>"
      ]
     },
     "metadata": {
      "needs_background": "light"
     },
     "output_type": "display_data"
    }
   ],
   "source": [
    "eval(y_test5_small, y_pred5_small)"
   ]
  },
  {
   "cell_type": "code",
   "execution_count": null,
   "metadata": {},
   "outputs": [],
   "source": [
    "n = 10**3\n",
    "X_train5_small = X_train5[:n]\n",
    "X_test5_small = X_test5[:n]\n",
    "y_train5_small = y_train5[:n]\n",
    "y_test5_small = y_test5[:n]"
   ]
  },
  {
   "cell_type": "code",
   "execution_count": null,
   "metadata": {},
   "outputs": [],
   "source": [
    "eval(y_test5_small, y_pred5_small)"
   ]
  },
  {
   "cell_type": "code",
   "execution_count": null,
   "metadata": {},
   "outputs": [],
   "source": [
    "accelerations['sleep']= 0\n",
    "\n",
    "for idx, (subject_id, subject_labels) in enumerate(labels.groupby('ID')):\n",
    "    print('index: {}'.format(idx))\n",
    "    label = -1\n",
    "    start = subject_labels['time'].min()\n",
    "    end = start\n",
    "    for _, row in subject_labels.iterrows():\n",
    "        current_label = row['sleep']\n",
    "        if (current_label != label):\n",
    "            #new sleep stage => add previous sleep stages\n",
    "            accelerations = add_label(accelerations, label, subject_id, start, end)\n",
    "            start = row['time']\n",
    "            label=row['sleep']\n",
    "            \n",
    "        end=row['time']"
   ]
  }
 ],
 "metadata": {
  "kernelspec": {
   "display_name": "Python 3",
   "language": "python",
   "name": "python3"
  },
  "language_info": {
   "codemirror_mode": {
    "name": "ipython",
    "version": 3
   },
   "file_extension": ".py",
   "mimetype": "text/x-python",
   "name": "python",
   "nbconvert_exporter": "python",
   "pygments_lexer": "ipython3",
   "version": "3.8.5"
  }
 },
 "nbformat": 4,
 "nbformat_minor": 4
}
