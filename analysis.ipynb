{
 "cells": [
  {
   "cell_type": "code",
   "execution_count": 37,
   "metadata": {},
   "outputs": [],
   "source": [
    "import numpy as np\n",
    "import math\n",
    "import time\n",
    "from datetime import datetime, timezone\n",
    "import pandas as pd\n",
    "import seaborn as sns\n",
    "import matplotlib.pyplot as plt\n",
    "from sklearn.preprocessing import StandardScaler\n",
    "from sklearn.model_selection import train_test_split\n",
    "from sklearn.preprocessing import MinMaxScaler\n",
    "from sklearn.preprocessing import MinMaxScaler\n",
    "from sklearn.metrics import mean_squared_error\n",
    "from sklearn.neural_network import MLPClassifier\n",
    "from sklearn.metrics import confusion_matrix\n",
    "from sklearn.metrics import accuracy_score\n",
    "from sklearn.metrics import ConfusionMatrixDisplay\n",
    "from sklearn.ensemble import RandomForestClassifier\n",
    "from sklearn.metrics import accuracy_score, classification_report\n",
    "from sklearn.svm import SVC\n",
    "from sklearn.ensemble import GradientBoostingClassifier"
   ]
  },
  {
   "cell_type": "code",
   "execution_count": 38,
   "metadata": {},
   "outputs": [],
   "source": [
    "df = pd.read_csv('train_data.csv', parse_dates=['time'])\n"
   ]
  },
  {
   "cell_type": "code",
   "execution_count": 39,
   "metadata": {},
   "outputs": [
    {
     "name": "stdout",
     "output_type": "stream",
     "text": [
      "Value 0 appears 63266 times. percentage: 8.34\n",
      "Value 1 appears 52341 times. percentage: 6.9\n",
      "Value 2 appears 372379 times. percentage: 49.08\n",
      "Value 3 appears 95551 times. percentage: 12.59\n",
      "Value 4 appears 10533 times. percentage: 1.39\n",
      "Value 5 appears 164664 times. percentage: 21.7\n"
     ]
    }
   ],
   "source": [
    "def check_count(X):\n",
    "    unique_values, counts = np.unique(X, return_counts=True)\n",
    "\n",
    "    # Display the counts for each unique value\n",
    "    for value, count in zip(unique_values, counts):\n",
    "        print(f\"Value {value} appears {count} times. percentage: {round(count*100 / len(X), 2)}\")\n",
    "        \n",
    "check_count(df['sleep'])"
   ]
  },
  {
   "cell_type": "code",
   "execution_count": 40,
   "metadata": {},
   "outputs": [],
   "source": [
    "def eval(test, pred, label=\"\"):\n",
    "    # Evaluate the model\n",
    "    accuracy = accuracy_score(test, pred)\n",
    "    print(\"Accuracy:\", accuracy)\n",
    "\n",
    "    # Display classification report\n",
    "    print(\"Classification Report:\")\n",
    "    print(classification_report(test, pred))\n",
    "    cm = confusion_matrix(test, pred)\n",
    "\n",
    "    #Printing the accuracy\n",
    "    print(cm)\n",
    "    disp = ConfusionMatrixDisplay(confusion_matrix=cm)\n",
    "    disp.plot()\n",
    "    plt.title(label)\n",
    "    plt.show()"
   ]
  },
  {
   "cell_type": "code",
   "execution_count": 41,
   "metadata": {},
   "outputs": [],
   "source": [
    "def process_heart_rates(arr, n):\n",
    "    arr = np.unique(arr)\n",
    "    l = len(arr)\n",
    "    if l >= n:\n",
    "        return arr[:n]\n",
    "    else:\n",
    "        # Fill missing values with the mean\n",
    "        mean = np.mean(arr)\n",
    "        mean_arr = np.full(n - l, mean)\n",
    "        return np.concatenate([arr, mean_arr])\n",
    "\n",
    "\n",
    "def create_sequences(data, seq_length, hr_length):\n",
    "    sequences = []\n",
    "    for i in range(len(data) - seq_length + 1):\n",
    "        acc_x = data['x'][i : i + seq_length]\n",
    "        acc_y = data['y'][i : i + seq_length]\n",
    "        acc_z = data['z'][i : i + seq_length]\n",
    "        \n",
    "        hr = data['heart_rate'][i : i + seq_length]\n",
    "        hr = process_heart_rates(hr, hr_length)\n",
    "        \n",
    "        seq = np.concatenate([acc_x, acc_y, acc_z, hr])\n",
    "        sequences.append(seq)\n",
    "    return np.array(sequences)"
   ]
  },
  {
   "cell_type": "code",
   "execution_count": 42,
   "metadata": {},
   "outputs": [],
   "source": [
    "def get_XY(data, seq_length, hr_length):\n",
    "    X = []\n",
    "    Y = []\n",
    "    for idx, (_, group_data) in enumerate(data.groupby(['ID', 'sleep'])):\n",
    "        label = group_data.iloc[0]['sleep']\n",
    "        \n",
    "        x = create_sequences(group_data, seq_length, hr_length)\n",
    "        y = np.full(len(x), label)\n",
    "        if idx == 0:\n",
    "            X = x\n",
    "        else:\n",
    "            X = np.concatenate((X, x), axis = 0)\n",
    "        Y.extend(y)\n",
    "    return X, Y\n",
    "        \n",
    "        \n",
    "    "
   ]
  },
  {
   "cell_type": "code",
   "execution_count": 43,
   "metadata": {},
   "outputs": [
    {
     "name": "stdout",
     "output_type": "stream",
     "text": [
      "758734\n"
     ]
    }
   ],
   "source": [
    "print(len(df))\n",
    "#eval_subject_id = 759667\n",
    "eval_subject_id = 781756\n",
    "condition = df['ID'] == eval_subject_id\n",
    "\n",
    "df_eval = df[condition]\n",
    "df = df[~condition]\n"
   ]
  },
  {
   "cell_type": "code",
   "execution_count": 44,
   "metadata": {},
   "outputs": [
    {
     "name": "stdout",
     "output_type": "stream",
     "text": [
      "29023\n",
      "722116\n"
     ]
    }
   ],
   "source": [
    "X_eval, y_eval = get_XY(df_eval, 50, 5)\n",
    "print(len(y_eval))\n",
    "\n",
    "X, y = get_XY(df, 50, 5)\n",
    "print(len(y))"
   ]
  },
  {
   "cell_type": "code",
   "execution_count": 45,
   "metadata": {},
   "outputs": [
    {
     "name": "stdout",
     "output_type": "stream",
     "text": [
      "Value 0 appears 47595 times. percentage: 8.24\n",
      "Value 1 appears 36350 times. percentage: 6.29\n",
      "Value 2 appears 285604 times. percentage: 49.44\n",
      "Value 3 appears 74904 times. percentage: 12.97\n",
      "Value 4 appears 8258 times. percentage: 1.43\n",
      "Value 5 appears 124981 times. percentage: 21.63\n",
      "total number of train data: 577692\n"
     ]
    }
   ],
   "source": [
    "n = 10**6\n",
    "X_train, X_test, y_train, y_test = train_test_split(X[:n], y[:n], test_size=0.2, random_state=42)\n",
    "check_count(y_train)\n",
    "print('total number of train data: {}'.format(len(y_train)))"
   ]
  },
  {
   "cell_type": "markdown",
   "metadata": {},
   "source": [
    "## Random Forest Classifier (sleep stages)"
   ]
  },
  {
   "cell_type": "code",
   "execution_count": 46,
   "metadata": {},
   "outputs": [
    {
     "name": "stderr",
     "output_type": "stream",
     "text": [
      "[Parallel(n_jobs=-1)]: Using backend ThreadingBackend with 12 concurrent workers.\n",
      "[Parallel(n_jobs=-1)]: Done  26 tasks      | elapsed:   46.7s\n",
      "[Parallel(n_jobs=-1)]: Done 100 out of 100 | elapsed:  2.4min finished\n",
      "[Parallel(n_jobs=12)]: Using backend ThreadingBackend with 12 concurrent workers.\n",
      "[Parallel(n_jobs=12)]: Done  26 tasks      | elapsed:    0.1s\n",
      "[Parallel(n_jobs=12)]: Done 100 out of 100 | elapsed:    0.5s finished\n"
     ]
    }
   ],
   "source": [
    "rf_classifier = RandomForestClassifier(random_state=42, verbose=True, n_jobs=-1)\n",
    "\n",
    "# Train the classifier\n",
    "rf_classifier.fit(X_train, y_train)\n",
    "\n",
    "# Make predictions on the test set\n",
    "y_pred_rfc = rf_classifier.predict(X_test)"
   ]
  },
  {
   "cell_type": "code",
   "execution_count": 47,
   "metadata": {
    "scrolled": true
   },
   "outputs": [
    {
     "name": "stdout",
     "output_type": "stream",
     "text": [
      "Accuracy: 0.9954370464742702\n",
      "Classification Report:\n",
      "              precision    recall  f1-score   support\n",
      "\n",
      "           0       1.00      1.00      1.00     11755\n",
      "           1       1.00      0.99      0.99      9157\n",
      "           2       1.00      1.00      1.00     71571\n",
      "           3       0.99      0.99      0.99     18536\n",
      "           4       0.98      0.99      0.98      2128\n",
      "           5       1.00      1.00      1.00     31277\n",
      "\n",
      "    accuracy                           1.00    144424\n",
      "   macro avg       0.99      0.99      0.99    144424\n",
      "weighted avg       1.00      1.00      1.00    144424\n",
      "\n",
      "[[11720    16    19     0     0     0]\n",
      " [   11  9034   105     0     0     7]\n",
      " [    8    20 71334   158    29    22]\n",
      " [    0     0   173 18344    19     0]\n",
      " [    2     0     0    17  2106     3]\n",
      " [    0     0    50     0     0 31227]]\n"
     ]
    },
    {
     "data": {
      "image/png": "[encoded data removed]",
      "text/plain": [
       "<Figure size 432x288 with 2 Axes>"
      ]
     },
     "metadata": {
      "needs_background": "light"
     },
     "output_type": "display_data"
    }
   ],
   "source": [
    "eval(y_test, y_pred_rfc, 'Random Forest Classifier, Confusion Matrix')"
   ]
  },
  {
   "cell_type": "code",
   "execution_count": 48,
   "metadata": {},
   "outputs": [
    {
     "name": "stderr",
     "output_type": "stream",
     "text": [
      "[Parallel(n_jobs=12)]: Using backend ThreadingBackend with 12 concurrent workers.\n",
      "[Parallel(n_jobs=12)]: Done  26 tasks      | elapsed:    0.0s\n",
      "[Parallel(n_jobs=12)]: Done 100 out of 100 | elapsed:    0.0s finished\n",
      "C:\\Users\\juho\\anaconda3\\lib\\site-packages\\sklearn\\metrics\\_classification.py:1221: UndefinedMetricWarning: Recall and F-score are ill-defined and being set to 0.0 in labels with no true samples. Use `zero_division` parameter to control this behavior.\n",
      "  _warn_prf(average, modifier, msg_start, len(result))\n"
     ]
    },
    {
     "name": "stdout",
     "output_type": "stream",
     "text": [
      "Accuracy: 0.2545911863005203\n",
      "Classification Report:\n",
      "              precision    recall  f1-score   support\n",
      "\n",
      "           0       0.08      0.33      0.13      2397\n",
      "           1       0.30      0.12      0.17      5315\n",
      "           2       0.42      0.38      0.40     13685\n",
      "           3       0.00      0.00      0.00       641\n",
      "           4       0.00      0.00      0.00         0\n",
      "           5       0.17      0.11      0.13      6985\n",
      "\n",
      "    accuracy                           0.25     29023\n",
      "   macro avg       0.16      0.16      0.14     29023\n",
      "weighted avg       0.30      0.25      0.26     29023\n",
      "\n",
      "[[ 792   52 1410    1    0  142]\n",
      " [1699  640 1911    1    0 1064]\n",
      " [5227 1099 5204    3    0 2152]\n",
      " [   0  183  183    0    0  275]\n",
      " [   0    0    0    0    0    0]\n",
      " [2317  178 3645   91    1  753]]\n"
     ]
    },
    {
     "data": {
      "image/png": "[encoded data removed]",
      "text/plain": [
       "<Figure size 432x288 with 2 Axes>"
      ]
     },
     "metadata": {
      "needs_background": "light"
     },
     "output_type": "display_data"
    }
   ],
   "source": [
    "y_eval_pred_rfc = rf_classifier.predict(X_eval)\n",
    "eval(y_eval, y_eval_pred_rfc, 'Random Forest Classifier, subject 759667')"
   ]
  },
  {
   "cell_type": "code",
   "execution_count": null,
   "metadata": {},
   "outputs": [],
   "source": []
  },
  {
   "cell_type": "markdown",
   "metadata": {},
   "source": [
    "## Support Vector Machines (sleep stages)\n",
    "\n",
    "Does not perform very well + takes a long time"
   ]
  },
  {
   "cell_type": "code",
   "execution_count": 11,
   "metadata": {},
   "outputs": [
    {
     "name": "stdout",
     "output_type": "stream",
     "text": [
      "[LibSVM]"
     ]
    }
   ],
   "source": [
    "svm_classifier = SVC(kernel='poly', C=1.0, random_state=42, verbose=True)\n",
    "\n",
    "svm_classifier.fit(X_train, y_train)\n",
    "\n",
    "\n",
    "y_pred_svm = svm_classifier.predict(X_test)"
   ]
  },
  {
   "cell_type": "code",
   "execution_count": 12,
   "metadata": {},
   "outputs": [
    {
     "name": "stdout",
     "output_type": "stream",
     "text": [
      "Accuracy: 0.8265\n",
      "Classification Report:\n",
      "              precision    recall  f1-score   support\n",
      "\n",
      "           0       0.70      0.87      0.77       497\n",
      "           1       0.62      0.15      0.24       173\n",
      "           2       0.86      0.89      0.88      1016\n",
      "           3       1.00      0.91      0.96       314\n",
      "\n",
      "    accuracy                           0.83      2000\n",
      "   macro avg       0.80      0.71      0.71      2000\n",
      "weighted avg       0.82      0.83      0.81      2000\n",
      "\n",
      "[[431   0  66   0]\n",
      " [ 95  26  52   0]\n",
      " [ 91  16 909   0]\n",
      " [  0   0  27 287]]\n"
     ]
    },
    {
     "data": {
      "image/png": "[encoded data removed]",
      "text/plain": [
       "<Figure size 432x288 with 2 Axes>"
      ]
     },
     "metadata": {
      "needs_background": "light"
     },
     "output_type": "display_data"
    }
   ],
   "source": [
    "eval(y_test, y_pred_svm)"
   ]
  },
  {
   "cell_type": "markdown",
   "metadata": {},
   "source": [
    "## MLP (sleep stages)\n",
    "not the best performance either + takes forever"
   ]
  },
  {
   "cell_type": "code",
   "execution_count": 33,
   "metadata": {
    "scrolled": true
   },
   "outputs": [
    {
     "name": "stdout",
     "output_type": "stream",
     "text": [
      "Iteration 1, loss = 1.22944137\n",
      "Iteration 2, loss = 1.05464603\n",
      "Iteration 3, loss = 0.98331229\n",
      "Iteration 4, loss = 0.94214800\n",
      "Iteration 5, loss = 0.91417876\n",
      "Iteration 6, loss = 0.89017747\n",
      "Iteration 7, loss = 0.87110465\n",
      "Iteration 8, loss = 0.85268166\n",
      "Iteration 9, loss = 0.83806401\n",
      "Iteration 10, loss = 0.82453895\n",
      "Iteration 11, loss = 0.81262517\n",
      "Iteration 12, loss = 0.80036478\n",
      "Iteration 13, loss = 0.79067858\n",
      "Iteration 14, loss = 0.78183848\n",
      "Iteration 15, loss = 0.77582844\n",
      "Iteration 16, loss = 0.76753212\n",
      "Iteration 17, loss = 0.76116815\n",
      "Iteration 18, loss = 0.75347164\n",
      "Iteration 19, loss = 0.75001426\n",
      "Iteration 20, loss = 0.74533237\n",
      "Iteration 21, loss = 0.73995640\n",
      "Iteration 22, loss = 0.73387660\n",
      "Iteration 23, loss = 0.73154194\n",
      "Iteration 24, loss = 0.72479889\n",
      "Iteration 25, loss = 0.72224056\n",
      "Iteration 26, loss = 0.71886271\n",
      "Iteration 27, loss = 0.71380019\n",
      "Iteration 28, loss = 0.71151960\n",
      "Iteration 29, loss = 0.70794240\n",
      "Iteration 30, loss = 0.70526460\n",
      "Iteration 31, loss = 0.70194176\n",
      "Iteration 32, loss = 0.69814891\n",
      "Iteration 33, loss = 0.69595169\n",
      "Iteration 34, loss = 0.69281579\n",
      "Iteration 35, loss = 0.69066477\n",
      "Iteration 36, loss = 0.68869137\n",
      "Iteration 37, loss = 0.68643248\n",
      "Iteration 38, loss = 0.68320150\n",
      "Iteration 39, loss = 0.68202430\n",
      "Iteration 40, loss = 0.67851170\n",
      "Iteration 41, loss = 0.67809476\n",
      "Iteration 42, loss = 0.67478441\n",
      "Iteration 43, loss = 0.67280813\n",
      "Iteration 44, loss = 0.67273139\n",
      "Iteration 45, loss = 0.66972556\n",
      "Iteration 46, loss = 0.66852059\n",
      "Iteration 47, loss = 0.66738517\n",
      "Iteration 48, loss = 0.66643837\n",
      "Iteration 49, loss = 0.66315293\n",
      "Iteration 50, loss = 0.66203893\n",
      "Iteration 51, loss = 0.66169916\n",
      "Iteration 52, loss = 0.65937392\n",
      "Iteration 53, loss = 0.65734519\n",
      "Iteration 54, loss = 0.65772132\n",
      "Iteration 55, loss = 0.65618779\n",
      "Iteration 56, loss = 0.65621186\n",
      "Iteration 57, loss = 0.65264723\n",
      "Iteration 58, loss = 0.65263871\n",
      "Iteration 59, loss = 0.65204446\n",
      "Iteration 60, loss = 0.64998985\n",
      "Iteration 61, loss = 0.64958373\n",
      "Iteration 62, loss = 0.64793892\n",
      "Iteration 63, loss = 0.64776921\n",
      "Iteration 64, loss = 0.64504165\n",
      "Iteration 65, loss = 0.64581476\n",
      "Iteration 66, loss = 0.64369073\n",
      "Iteration 67, loss = 0.64197306\n",
      "Iteration 68, loss = 0.64124715\n",
      "Iteration 69, loss = 0.64022734\n",
      "Iteration 70, loss = 0.64006008\n",
      "Iteration 71, loss = 0.63918021\n",
      "Iteration 72, loss = 0.63864230\n",
      "Iteration 73, loss = 0.63700058\n",
      "Iteration 74, loss = 0.63739684\n",
      "Iteration 75, loss = 0.63554177\n",
      "Iteration 76, loss = 0.63351844\n",
      "Iteration 77, loss = 0.63537370\n",
      "Iteration 78, loss = 0.63284704\n",
      "Iteration 79, loss = 0.63248621\n",
      "Iteration 80, loss = 0.63233192\n",
      "Iteration 81, loss = 0.63195878\n",
      "Iteration 82, loss = 0.63030548\n",
      "Iteration 83, loss = 0.62960780\n",
      "Iteration 84, loss = 0.63152630\n",
      "Iteration 85, loss = 0.62963872\n",
      "Iteration 86, loss = 0.62801544\n",
      "Iteration 87, loss = 0.62827135\n",
      "Iteration 88, loss = 0.62814541\n",
      "Iteration 89, loss = 0.62660715\n",
      "Iteration 90, loss = 0.62540014\n",
      "Iteration 91, loss = 0.62550703\n",
      "Iteration 92, loss = 0.62586468\n",
      "Iteration 93, loss = 0.62479402\n",
      "Iteration 94, loss = 0.62378691\n",
      "Iteration 95, loss = 0.62318538\n",
      "Iteration 96, loss = 0.62313205\n",
      "Iteration 97, loss = 0.62320201\n",
      "Iteration 98, loss = 0.62204563\n",
      "Iteration 99, loss = 0.62250433\n",
      "Iteration 100, loss = 0.62000918\n",
      "Iteration 101, loss = 0.61987132\n",
      "Iteration 102, loss = 0.61927670\n",
      "Iteration 103, loss = 0.61845119\n",
      "Iteration 104, loss = 0.61689817\n",
      "Iteration 105, loss = 0.61810802\n",
      "Iteration 106, loss = 0.61610867\n",
      "Iteration 107, loss = 0.61639393\n",
      "Iteration 108, loss = 0.61640535\n",
      "Iteration 109, loss = 0.61488079\n",
      "Iteration 110, loss = 0.61528337\n",
      "Iteration 111, loss = 0.61521244\n",
      "Iteration 112, loss = 0.61356151\n",
      "Iteration 113, loss = 0.61267051\n",
      "Iteration 114, loss = 0.61305260\n",
      "Iteration 115, loss = 0.61291305\n",
      "Iteration 116, loss = 0.61140644\n",
      "Iteration 117, loss = 0.61226868\n",
      "Iteration 118, loss = 0.61043170\n",
      "Iteration 119, loss = 0.61125837\n",
      "Iteration 120, loss = 0.60961012\n",
      "Iteration 121, loss = 0.61096096\n",
      "Iteration 122, loss = 0.60953911\n",
      "Iteration 123, loss = 0.60785300\n",
      "Iteration 124, loss = 0.60846942\n",
      "Iteration 125, loss = 0.60815780\n",
      "Iteration 126, loss = 0.60598120\n",
      "Iteration 127, loss = 0.60721722\n",
      "Iteration 128, loss = 0.60620718\n",
      "Iteration 129, loss = 0.60628730\n",
      "Iteration 130, loss = 0.60483229\n",
      "Iteration 131, loss = 0.60613951\n",
      "Iteration 132, loss = 0.60494159\n",
      "Iteration 133, loss = 0.60405635\n",
      "Iteration 134, loss = 0.60466786\n",
      "Iteration 135, loss = 0.60358144\n",
      "Iteration 136, loss = 0.60410955\n",
      "Iteration 137, loss = 0.60249722\n",
      "Iteration 138, loss = 0.60254048\n",
      "Iteration 139, loss = 0.60255801\n",
      "Iteration 140, loss = 0.60223193\n",
      "Iteration 141, loss = 0.60270119\n",
      "Iteration 142, loss = 0.60107153\n",
      "Iteration 143, loss = 0.60115374\n",
      "Iteration 144, loss = 0.60132189\n",
      "Iteration 145, loss = 0.60004028\n",
      "Iteration 146, loss = 0.59955327\n",
      "Iteration 147, loss = 0.59737208\n",
      "Iteration 148, loss = 0.59975974\n",
      "Iteration 149, loss = 0.59836552\n",
      "Iteration 150, loss = 0.59757147\n",
      "Iteration 151, loss = 0.59854808\n",
      "Iteration 152, loss = 0.59809350\n",
      "Iteration 153, loss = 0.59851738\n",
      "Iteration 154, loss = 0.59746659\n",
      "Iteration 155, loss = 0.59637361\n",
      "Iteration 156, loss = 0.59828820\n",
      "Iteration 157, loss = 0.59641939\n",
      "Iteration 158, loss = 0.59472600\n",
      "Iteration 159, loss = 0.59741924\n",
      "Iteration 160, loss = 0.59575258\n",
      "Iteration 161, loss = 0.59453251\n",
      "Iteration 162, loss = 0.59506681\n",
      "Iteration 163, loss = 0.59428075\n",
      "Iteration 164, loss = 0.59460333\n",
      "Iteration 165, loss = 0.59385735\n",
      "Iteration 166, loss = 0.59282166\n",
      "Iteration 167, loss = 0.59340789\n",
      "Iteration 168, loss = 0.59483409\n",
      "Iteration 169, loss = 0.59280714\n",
      "Iteration 170, loss = 0.59287854\n",
      "Iteration 171, loss = 0.59352032\n",
      "Iteration 172, loss = 0.59313063\n",
      "Iteration 173, loss = 0.59221967\n",
      "Iteration 174, loss = 0.59151570\n",
      "Iteration 175, loss = 0.59239815\n",
      "Iteration 176, loss = 0.59089659\n",
      "Iteration 177, loss = 0.59214234\n",
      "Iteration 178, loss = 0.59286302\n",
      "Iteration 179, loss = 0.59190662\n",
      "Iteration 180, loss = 0.58949738\n",
      "Iteration 181, loss = 0.59120894\n",
      "Iteration 182, loss = 0.59033143\n",
      "Iteration 183, loss = 0.59122657\n",
      "Iteration 184, loss = 0.58944827\n",
      "Iteration 185, loss = 0.58902430\n",
      "Iteration 186, loss = 0.58902744\n",
      "Iteration 187, loss = 0.59007546\n",
      "Iteration 188, loss = 0.58942790\n",
      "Iteration 189, loss = 0.58898717\n",
      "Iteration 190, loss = 0.58974599\n",
      "Iteration 191, loss = 0.58804510\n",
      "Iteration 192, loss = 0.58789361\n",
      "Iteration 193, loss = 0.58850732\n",
      "Iteration 194, loss = 0.58787823\n",
      "Iteration 195, loss = 0.58671321\n",
      "Iteration 196, loss = 0.58748164\n",
      "Iteration 197, loss = 0.58737561\n",
      "Iteration 198, loss = 0.58702429\n",
      "Iteration 199, loss = 0.58721335\n",
      "Iteration 200, loss = 0.58677259\n"
     ]
    },
    {
     "name": "stderr",
     "output_type": "stream",
     "text": [
      "C:\\Users\\juho\\anaconda3\\lib\\site-packages\\sklearn\\neural_network\\_multilayer_perceptron.py:582: ConvergenceWarning: Stochastic Optimizer: Maximum iterations (200) reached and the optimization hasn't converged yet.\n",
      "  warnings.warn(\n"
     ]
    }
   ],
   "source": [
    "classifier = MLPClassifier(\n",
    "    activation='relu',\n",
    "    hidden_layer_sizes=(124,64,32),\n",
    "    max_iter=200,\n",
    "    alpha=0.01,\n",
    "    solver='adam',\n",
    "    verbose=1\n",
    ")\n",
    "classifier.fit(X_train, y_train)\n",
    "y_pred_mlp = classifier.predict(X_test)"
   ]
  },
  {
   "cell_type": "code",
   "execution_count": 35,
   "metadata": {},
   "outputs": [
    {
     "name": "stdout",
     "output_type": "stream",
     "text": [
      "Accuracy: 0.7998997058943117\n",
      "Classification Report:\n",
      "              precision    recall  f1-score   support\n",
      "\n",
      "           0       0.70      0.63      0.66     12130\n",
      "           1       0.50      0.36      0.42     10158\n",
      "           2       0.83      0.88      0.85     73385\n",
      "           3       0.84      0.77      0.80     18103\n",
      "           4       0.73      0.89      0.80      2084\n",
      "           5       0.82      0.84      0.83     31706\n",
      "\n",
      "    accuracy                           0.80    147566\n",
      "   macro avg       0.74      0.73      0.73    147566\n",
      "weighted avg       0.79      0.80      0.79    147566\n",
      "\n",
      "[[ 7593  1125  2065   108    17  1222]\n",
      " [ 1448  3658  3878    70     4  1100]\n",
      " [ 1094  1749 64443  2183   459  3457]\n",
      " [   56    99  3583 13943   203   219]\n",
      " [    9     8   153    37  1861    16]\n",
      " [  588   703  3655   218     2 26540]]\n"
     ]
    },
    {
     "data": {
      "image/png": "[encoded data removed]",
      "text/plain": [
       "<Figure size 432x288 with 2 Axes>"
      ]
     },
     "metadata": {
      "needs_background": "light"
     },
     "output_type": "display_data"
    }
   ],
   "source": [
    "eval(y_test, y_pred_mlp)"
   ]
  },
  {
   "cell_type": "markdown",
   "metadata": {},
   "source": [
    "## Gradient Boosting\n",
    "\n",
    "takes forever"
   ]
  },
  {
   "cell_type": "code",
   "execution_count": null,
   "metadata": {},
   "outputs": [],
   "source": [
    "gb_classifier = GradientBoostingClassifier(\n",
    "    random_state=42,\n",
    "    verbose=1,\n",
    "    learning_rate=1,\n",
    "    max_depth=2,\n",
    "    subsample=0.8\n",
    ")\n",
    "gb_classifier.fit(X_train, y_train)\n",
    "y_pred_gb = gb_classifier.predict(X_test)"
   ]
  },
  {
   "cell_type": "code",
   "execution_count": null,
   "metadata": {},
   "outputs": [],
   "source": [
    "eval(y_test, y_pred_gb)"
   ]
  }
 ],
 "metadata": {
  "kernelspec": {
   "display_name": "Python 3",
   "language": "python",
   "name": "python3"
  },
  "language_info": {
   "codemirror_mode": {
    "name": "ipython",
    "version": 3
   },
   "file_extension": ".py",
   "mimetype": "text/x-python",
   "name": "python",
   "nbconvert_exporter": "python",
   "pygments_lexer": "ipython3",
   "version": "3.8.5"
  }
 },
 "nbformat": 4,
 "nbformat_minor": 4
}
